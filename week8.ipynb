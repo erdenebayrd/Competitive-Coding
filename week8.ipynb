{
  "nbformat": 4,
  "nbformat_minor": 0,
  "metadata": {
    "colab": {
      "provenance": [],
      "authorship_tag": "ABX9TyOQ09CS+10yOjPQVJP9gdpz",
      "include_colab_link": true
    },
    "kernelspec": {
      "name": "python3",
      "display_name": "Python 3"
    },
    "language_info": {
      "name": "python"
    }
  },
  "cells": [
    {
      "cell_type": "markdown",
      "metadata": {
        "id": "view-in-github",
        "colab_type": "text"
      },
      "source": [
        "<a href=\"https://colab.research.google.com/github/erdenebayrd/Competitive-Coding/blob/master/week8.ipynb\" target=\"_parent\"><img src=\"https://colab.research.google.com/assets/colab-badge.svg\" alt=\"Open In Colab\"/></a>"
      ]
    },
    {
      "cell_type": "code",
      "execution_count": null,
      "metadata": {
        "id": "CSh3DnCCNNZA"
      },
      "outputs": [],
      "source": [
        "import torch\n",
        "import torch.nn as nn\n",
        "import torch.nn.functional as F\n",
        "import torch.optim as optim\n",
        "import numpy as np\n",
        "from sklearn.metrics import accuracy_score"
      ]
    },
    {
      "cell_type": "code",
      "source": [
        "char_arr = []\n",
        "for i in range(26):\n",
        "  char_arr.append(chr(i + ord('a')))"
      ],
      "metadata": {
        "id": "mUqegcTrNwr8"
      },
      "execution_count": null,
      "outputs": []
    },
    {
      "cell_type": "code",
      "source": [
        "char_arr"
      ],
      "metadata": {
        "colab": {
          "base_uri": "https://localhost:8080/"
        },
        "id": "xdivx7qFOFeV",
        "outputId": "2642cf02-7b9a-4bd9-ea01-e38f253a553f"
      },
      "execution_count": null,
      "outputs": [
        {
          "output_type": "execute_result",
          "data": {
            "text/plain": [
              "['a',\n",
              " 'b',\n",
              " 'c',\n",
              " 'd',\n",
              " 'e',\n",
              " 'f',\n",
              " 'g',\n",
              " 'h',\n",
              " 'i',\n",
              " 'j',\n",
              " 'k',\n",
              " 'l',\n",
              " 'm',\n",
              " 'n',\n",
              " 'o',\n",
              " 'p',\n",
              " 'q',\n",
              " 'r',\n",
              " 's',\n",
              " 't',\n",
              " 'u',\n",
              " 'v',\n",
              " 'w',\n",
              " 'x',\n",
              " 'y',\n",
              " 'z']"
            ]
          },
          "metadata": {},
          "execution_count": 17
        }
      ]
    },
    {
      "cell_type": "code",
      "source": [
        "num_dic = {n: i for i, n in enumerate(char_arr)}\n",
        "dic_len = len(num_dic)\n",
        "\n",
        "seq_data = [\"word\", \"wood\", \"deep\", \"dive\", \"cold\", \"cool\", \"load\", \"love\", \"kiss\", \"kind\"]"
      ],
      "metadata": {
        "id": "EiiekH1qOGMX"
      },
      "execution_count": null,
      "outputs": []
    },
    {
      "cell_type": "code",
      "source": [
        "def make_batch(seq_data):\n",
        "  input_batch = []\n",
        "  target_batch = []\n",
        "\n",
        "  for seq in seq_data:\n",
        "    input = [num_dic[n] for n in seq[:-1]]\n",
        "    target = num_dic[seq[-1]]\n",
        "    input_batch.append(np.eye(dic_len)[input])\n",
        "    target_batch.append([target])\n",
        "  return input_batch, target_batch"
      ],
      "metadata": {
        "id": "65ardcnlOW0P"
      },
      "execution_count": null,
      "outputs": []
    },
    {
      "cell_type": "code",
      "source": [
        "device = torch.device(\"cuda\" if torch.cuda.is_available() else \"cpu\")\n",
        "device"
      ],
      "metadata": {
        "colab": {
          "base_uri": "https://localhost:8080/"
        },
        "id": "7FuT-pHxOpIH",
        "outputId": "2a789318-f527-493a-e6ff-04f87f49e2df"
      },
      "execution_count": null,
      "outputs": [
        {
          "output_type": "execute_result",
          "data": {
            "text/plain": [
              "device(type='cpu')"
            ]
          },
          "metadata": {},
          "execution_count": 20
        }
      ]
    },
    {
      "cell_type": "code",
      "source": [
        "n_input = dic_len\n",
        "n_hidden = 128\n",
        "n_class = dic_len\n",
        "learning_rate = 0.1\n",
        "total_epoch = 20"
      ],
      "metadata": {
        "id": "awO50f2xOu6f"
      },
      "execution_count": null,
      "outputs": []
    },
    {
      "cell_type": "code",
      "source": [
        "class Net(nn.Module):\n",
        "  def __init__(self):\n",
        "    super(Net, self).__init__()\n",
        "    self.lstm = nn.LSTM(input_size=n_input, hidden_size=n_hidden, num_layers=1, batch_first=True)\n",
        "    self.linear = nn.Linear(n_hidden, n_class)\n",
        "\n",
        "  def forward(self, x):\n",
        "    x, _ = self.lstm(x)\n",
        "    x = self.linear(x[:, -1, :])\n",
        "    x = F.softmax(x, dim=1)\n",
        "    return x"
      ],
      "metadata": {
        "id": "Mtu3bTH-O2l6"
      },
      "execution_count": null,
      "outputs": []
    },
    {
      "cell_type": "code",
      "source": [
        "net = Net().to(device)\n",
        "criterion = nn.NLLLoss()\n",
        "optimizer = optim.Adam(net.parameters(), lr=learning_rate)"
      ],
      "metadata": {
        "id": "XLjbgvRHPQSu"
      },
      "execution_count": null,
      "outputs": []
    },
    {
      "cell_type": "code",
      "source": [
        "input_batch, target_batch = make_batch(seq_data)\n",
        "input_batch_torch = torch.from_numpy(np.array(input_batch)).float().to(device)\n",
        "target_batch_torch = torch.from_numpy(np.array(target_batch)).view(-1).long().to(device)"
      ],
      "metadata": {
        "id": "BNeeTq-2PX0m"
      },
      "execution_count": null,
      "outputs": []
    },
    {
      "cell_type": "code",
      "source": [
        "for epoch in range(total_epoch):\n",
        "  net.train()\n",
        "  optimizer.zero_grad()\n",
        "\n",
        "  output = net(input_batch_torch)\n",
        "  loss = criterion(output, target_batch_torch)\n",
        "  loss.backward()\n",
        "  optimizer.step()\n",
        "\n",
        "  _, predicted = torch.max(output, 1)\n",
        "  accuracy = accuracy_score(predicted.cpu().numpy(), target_batch_torch.cpu().numpy())\n",
        "\n",
        "  print(f\"Epoch: {epoch}, Loss: {loss.item()}, Accuracy: {accuracy}\")\n",
        "print(\"finished traning\")"
      ],
      "metadata": {
        "colab": {
          "base_uri": "https://localhost:8080/"
        },
        "id": "y3JL1mlIPxJe",
        "outputId": "c6ebdd22-3265-41ff-9d21-9a6892c39217"
      },
      "execution_count": null,
      "outputs": [
        {
          "output_type": "stream",
          "name": "stdout",
          "text": [
            "Epoch: 0, Loss: -0.03893197327852249, Accuracy: 0.1\n",
            "Epoch: 1, Loss: -0.402195543050766, Accuracy: 0.5\n",
            "Epoch: 2, Loss: -0.49999865889549255, Accuracy: 0.5\n",
            "Epoch: 3, Loss: -0.5, Accuracy: 0.5\n",
            "Epoch: 4, Loss: -0.5, Accuracy: 0.5\n",
            "Epoch: 5, Loss: -0.5, Accuracy: 0.5\n",
            "Epoch: 6, Loss: -0.5, Accuracy: 0.5\n",
            "Epoch: 7, Loss: -0.5, Accuracy: 0.5\n",
            "Epoch: 8, Loss: -0.5, Accuracy: 0.5\n",
            "Epoch: 9, Loss: -0.5, Accuracy: 0.5\n",
            "Epoch: 10, Loss: -0.5, Accuracy: 0.5\n",
            "Epoch: 11, Loss: -0.5, Accuracy: 0.5\n",
            "Epoch: 12, Loss: -0.5, Accuracy: 0.5\n",
            "Epoch: 13, Loss: -0.5, Accuracy: 0.5\n",
            "Epoch: 14, Loss: -0.5, Accuracy: 0.5\n",
            "Epoch: 15, Loss: -0.5, Accuracy: 0.5\n",
            "Epoch: 16, Loss: -0.5, Accuracy: 0.5\n",
            "Epoch: 17, Loss: -0.5, Accuracy: 0.5\n",
            "Epoch: 18, Loss: -0.5, Accuracy: 0.5\n",
            "Epoch: 19, Loss: -0.5, Accuracy: 0.5\n",
            "finished traning\n"
          ]
        }
      ]
    },
    {
      "cell_type": "code",
      "source": [
        "predicted_words = []\n",
        "for i in range(len(predicted.cpu().numpy())):\n",
        "  ind = predicted.cpu().numpy()[i]\n",
        "  predicted_words.append(seq_data[i][:-1] + char_arr[ind])\n",
        "\n",
        "print(\"\\n=== Prediction Result ===\")\n",
        "print(\"Input:\", [w[:3] + \" \" for w in seq_data])\n",
        "print(\"Predicted:\", predicted_words)\n",
        "print(\"Accuracy:\", accuracy)"
      ],
      "metadata": {
        "colab": {
          "base_uri": "https://localhost:8080/"
        },
        "id": "JbJJG_1BQULm",
        "outputId": "12b1b021-7602-4e81-f346-9a3ab590dfc8"
      },
      "execution_count": null,
      "outputs": [
        {
          "output_type": "stream",
          "name": "stdout",
          "text": [
            "\n",
            "=== Prediction Result ===\n",
            "Input: ['wor ', 'woo ', 'dee ', 'div ', 'col ', 'coo ', 'loa ', 'lov ', 'kis ', 'kin ']\n",
            "Predicted: ['word', 'wood', 'deed', 'divd', 'cold', 'cood', 'load', 'lovd', 'kisd', 'kind']\n",
            "Accuracy: 0.5\n"
          ]
        }
      ]
    },
    {
      "cell_type": "code",
      "source": [
        "new_seq_data = [\"sold\", \"peep\", \"miss\", \"told\", \"cook\", \"hope\", \"live\", \"mind\"]\n",
        "input_batch_new, target_batch_new = make_batch(new_seq_data)\n",
        "input_batch_torch_new = torch.from_numpy(np.array(input_batch_new)).float().to(device)"
      ],
      "metadata": {
        "id": "StD7rfraRWIV"
      },
      "execution_count": null,
      "outputs": []
    },
    {
      "cell_type": "code",
      "source": [
        "net.eval()\n",
        "with torch.no_grad():\n",
        "  new_output = net(input_batch_torch_new)\n",
        "  _, new_predicted = torch.max(new_output, 1)\n",
        "\n",
        "print(\"\\n=== New Prediction Result ===\")\n",
        "print(\"Input:\", [w[:3] + \" \" for w in new_seq_data])"
      ],
      "metadata": {
        "colab": {
          "base_uri": "https://localhost:8080/"
        },
        "id": "_6Wv9b5fRr2s",
        "outputId": "8f2e79a5-7104-4e86-8308-42745a1e315d"
      },
      "execution_count": null,
      "outputs": [
        {
          "output_type": "stream",
          "name": "stdout",
          "text": [
            "\n",
            "=== New Prediction Result ===\n",
            "Input: ['sol ', 'pee ', 'mis ', 'tol ', 'coo ', 'hop ', 'liv ', 'min ']\n"
          ]
        }
      ]
    },
    {
      "cell_type": "code",
      "source": [],
      "metadata": {
        "id": "Iv0d42CAR1bE"
      },
      "execution_count": null,
      "outputs": []
    }
  ]
}